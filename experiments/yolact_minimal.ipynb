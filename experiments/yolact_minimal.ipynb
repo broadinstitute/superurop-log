{
  "cells": [
    {
      "cell_type": "code",
      "execution_count": null,
      "metadata": {
        "colab": {
          "base_uri": "https://localhost:8080/"
        },
        "id": "h6bwAQP87u-Z",
        "outputId": "c592b0e9-fa50-4cb0-eb4d-0aae5a4e69d4"
      },
      "outputs": [
        {
          "name": "stdout",
          "output_type": "stream",
          "text": [
            "Drive already mounted at /content/drive; to attempt to forcibly remount, call drive.mount(\"/content/drive\", force_remount=True).\n"
          ]
        }
      ],
      "source": [
        "from google.colab import drive\n",
        "drive.mount('/content/drive')"
      ]
    },
    {
      "cell_type": "code",
      "execution_count": null,
      "metadata": {
        "id": "tijO7_TM713_"
      },
      "outputs": [],
      "source": [
        "%%bash\n",
        "if [ ! -d yolact-minimal ]; then\n",
        "    cd /content/MyDrive/\n",
        "    mkdir -p yolact-minimal && cd yolact-minimal\n",
        "    git clone https://github.com/feiyuhuahuo/Yolact_minimal.git\n",
        "fi"
      ]
    },
    {
      "cell_type": "code",
      "execution_count": null,
      "metadata": {
        "colab": {
          "base_uri": "https://localhost:8080/"
        },
        "id": "cBDf7chk7gTB",
        "outputId": "999e1644-b5bf-499e-972c-1eba096a505f"
      },
      "outputs": [
        {
          "name": "stdout",
          "output_type": "stream",
          "text": [
            "build\t\t\t\t\t    detect.py\t\t onnx_files\t  train.py\n",
            "coco2017\t\t\t\t    detect_with_onnx.py  __pycache__\t  trt_files\n",
            "config.py\t\t\t\t    detect_with_trt.py\t readme_imgs\t  ttt.py\n",
            "custom_dataset\t\t\t\t    eval.py\t\t README.md\t  utils\n",
            "cython_nms.c\t\t\t\t    export2onnx.py\t results\t  weights\n",
            "cython_nms.cpython-310-x86_64-linux-gnu.so  export2trt.py\t setup.py\t  yolact-minimal\n",
            "cython_nms.pyx\t\t\t\t    modules\t\t tensorboard_log\n"
          ]
        }
      ],
      "source": [
        "!ls yolact-minimal/Yolact_minimal/"
      ]
    },
    {
      "cell_type": "code",
      "execution_count": null,
      "metadata": {
        "id": "Dsd6met_9Egd"
      },
      "outputs": [],
      "source": [
        "import os\n",
        "os.chdir('yolact-minimal/Yolact_minimal')"
      ]
    },
    {
      "cell_type": "code",
      "execution_count": null,
      "metadata": {
        "colab": {
          "base_uri": "https://localhost:8080/"
        },
        "id": "1lr8fWr59GQ1",
        "outputId": "e10ab79a-e70f-40be-fcd7-381566621522"
      },
      "outputs": [
        {
          "name": "stdout",
          "output_type": "stream",
          "text": [
            "/content/yolact-minimal/Yolact_minimal\n"
          ]
        }
      ],
      "source": [
        "!pwd"
      ]
    },
    {
      "cell_type": "code",
      "execution_count": null,
      "metadata": {
        "id": "yCfTkHYc9Nmn"
      },
      "outputs": [],
      "source": [
        "!pip install -q --upgrade numpy scipy"
      ]
    },
    {
      "cell_type": "code",
      "execution_count": null,
      "metadata": {
        "id": "5T1hlN518aez"
      },
      "outputs": [],
      "source": [
        "!python setup.py build_ext --inplace"
      ]
    },
    {
      "cell_type": "code",
      "execution_count": null,
      "metadata": {
        "id": "SqHqnQ148vky"
      },
      "outputs": [],
      "source": [
        "!pip install -q fiftyone"
      ]
    },
    {
      "cell_type": "code",
      "execution_count": null,
      "metadata": {
        "colab": {
          "background_save": true
        },
        "id": "vC5B-qMrAghu"
      },
      "outputs": [],
      "source": [
        "import fiftyone.zoo as foz"
      ]
    },
    {
      "cell_type": "code",
      "execution_count": null,
      "metadata": {
        "id": "QER5ml06AikP"
      },
      "outputs": [],
      "source": [
        "coco_2017 = foz.load_zoo_dataset(\n",
        "    \"coco-2017\",\n",
        "    split=\"train\",\n",
        "    persistent=True,\n",
        "    max_samples=50,\n",
        "    shuffle=True,\n",
        "    random_state=42,\n",
        ")"
      ]
    },
    {
      "cell_type": "code",
      "execution_count": null,
      "metadata": {
        "id": "87oyJNyHBYiB"
      },
      "outputs": [],
      "source": [
        "coco_2017"
      ]
    },
    {
      "cell_type": "code",
      "execution_count": null,
      "metadata": {
        "id": "t1K6-iU7DE8R"
      },
      "outputs": [],
      "source": [
        "dir(coco_2017)"
      ]
    },
    {
      "cell_type": "code",
      "execution_count": null,
      "metadata": {
        "id": "4pAEOi4uDMfX"
      },
      "outputs": [],
      "source": [
        "coco_2017.info"
      ]
    },
    {
      "cell_type": "code",
      "execution_count": null,
      "metadata": {
        "id": "1kP3e32-DX6X"
      },
      "outputs": [],
      "source": [
        "!mkdir coco2017"
      ]
    },
    {
      "cell_type": "code",
      "execution_count": null,
      "metadata": {
        "id": "GwJwTxhgL51q"
      },
      "outputs": [],
      "source": [
        "os.chdir('coco2017')"
      ]
    },
    {
      "cell_type": "code",
      "execution_count": null,
      "metadata": {
        "id": "mZpC7J6NMCs3"
      },
      "outputs": [],
      "source": [
        "!pwd"
      ]
    },
    {
      "cell_type": "code",
      "execution_count": null,
      "metadata": {
        "id": "DjmEox15MDiL"
      },
      "outputs": [],
      "source": [
        "!curl -C - -O -# http://images.cocodataset.org/zips/train2017.zip"
      ]
    },
    {
      "cell_type": "code",
      "execution_count": null,
      "metadata": {
        "id": "Oi-iYvefNOBD"
      },
      "outputs": [],
      "source": [
        "!ls"
      ]
    },
    {
      "cell_type": "code",
      "execution_count": null,
      "metadata": {
        "id": "samyO3ysPR1Y"
      },
      "outputs": [],
      "source": [
        "%%bash\n",
        "if [ ! -d train2017 ]; then\n",
        "    unzip train2017.zip\n",
        "fi\n",
        "# !unzip train2017.zip"
      ]
    },
    {
      "cell_type": "code",
      "execution_count": null,
      "metadata": {
        "id": "R6Te5BnlPUlE"
      },
      "outputs": [],
      "source": [
        "!curl -C - -O -# http://images.cocodataset.org/annotations/annotations_trainval2017.zip"
      ]
    },
    {
      "cell_type": "code",
      "execution_count": null,
      "metadata": {
        "id": "f2keTGTjQoB2"
      },
      "outputs": [],
      "source": [
        "%%bash\n",
        "if [ ! -d annotations ]; then\n",
        "    unzip annotations_trainval2017.zip\n",
        "fi\n",
        "# !unzip annotations_trainval2017.zip"
      ]
    },
    {
      "cell_type": "code",
      "execution_count": null,
      "metadata": {
        "id": "c01f0WebQqH8"
      },
      "outputs": [],
      "source": [
        "!ls annotations"
      ]
    },
    {
      "cell_type": "code",
      "execution_count": null,
      "metadata": {
        "id": "fTYjv5SVQy3d"
      },
      "outputs": [],
      "source": [
        "!pwd"
      ]
    },
    {
      "cell_type": "code",
      "execution_count": null,
      "metadata": {
        "id": "N2kWC85TQ7TB"
      },
      "outputs": [],
      "source": [
        "os.chdir('..')"
      ]
    },
    {
      "cell_type": "code",
      "execution_count": null,
      "metadata": {
        "id": "gsVuPbTeSZ2O"
      },
      "outputs": [],
      "source": [
        "!pwd"
      ]
    },
    {
      "cell_type": "code",
      "execution_count": null,
      "metadata": {
        "id": "lVGXcs10TOIE"
      },
      "outputs": [],
      "source": [
        "!pip install -q tensorboardX terminaltables"
      ]
    },
    {
      "cell_type": "code",
      "execution_count": null,
      "metadata": {
        "colab": {
          "background_save": true
        },
        "id": "irusJunVSair",
        "outputId": "f0430a3f-a150-4b50-d0dc-cd8608108ab9"
      },
      "outputs": [
        {
          "name": "stdout",
          "output_type": "stream",
          "text": [
            "\n",
            "-----No GPU found, training on CPU.-----\n",
            "\n",
            "------------------------------res101_coco------------------------------\n",
            "mode: train\n",
            "cuda: False\n",
            "gpu_id: None\n",
            "img_size: 544\n",
            "class_names: ('person', 'bicycle', 'car', 'motorcycle', 'airplane', 'bus', 'train', 'truck', 'boat', 'traffic light', 'fire hydrant', 'stop sign', 'parking meter', 'bench', 'bird', 'cat', 'dog', 'horse', 'sheep', 'cow', 'elephant', 'bear', 'zebra', 'giraffe', 'backpack', 'umbrella', 'handbag', 'tie', 'suitcase', 'frisbee', 'skis', 'snowboard', 'sports ball', 'kite', 'baseball bat', 'baseball glove', 'skateboard', 'surfboard', 'tennis racket', 'bottle', 'wine glass', 'cup', 'fork', 'knife', 'spoon', 'bowl', 'banana', 'apple', 'sandwich', 'orange', 'broccoli', 'carrot', 'hot dog', 'pizza', 'donut', 'cake', 'chair', 'couch', 'potted plant', 'bed', 'dining table', 'toilet', 'tv', 'laptop', 'mouse', 'remote', 'keyboard', 'cell phone', 'microwave', 'oven', 'toaster', 'sink', 'refrigerator', 'book', 'clock', 'vase', 'scissors', 'teddy bear', 'hair drier', 'toothbrush')\n",
            "num_classes: 81\n",
            "scales: [24, 48, 96, 192, 384]\n",
            "aspect_ratios: [1, 0.5, 2]\n",
            "weight: weights/backbone_res101.pth\n",
            "train_imgs: /content/yolact-minimal/Yolact_minimal/coco2017/train2017/\n",
            "train_ann: /content/yolact-minimal/Yolact_minimal/coco2017/annotations/instances_train2017.json\n",
            "train_bs: 8\n",
            "bs_per_gpu: 8\n",
            "val_interval: 4000\n",
            "bs_factor: 1.0\n",
            "lr: 0.001\n",
            "warmup_init: 0.0001\n",
            "warmup_until: 500\n",
            "lr_steps: (0, 280000, 560000, 620000, 680000)\n",
            "pos_iou_thre: 0.5\n",
            "neg_iou_thre: 0.4\n",
            "conf_alpha: 1\n",
            "bbox_alpha: 1.5\n",
            "mask_alpha: 6.125\n",
            "semantic_alpha: 1\n",
            "masks_to_train: 100\n",
            "val_imgs: /content/yolact-minimal/Yolact_minimal/coco2017/val2017/\n",
            "val_ann: /content/yolact-minimal/Yolact_minimal/coco2017/annotations/instances_val2017.json\n",
            "val_bs: 1\n",
            "val_num: -1\n",
            "coco_api: False\n",
            "traditional_nms: False\n",
            "nms_score_thre: 0.05\n",
            "nms_iou_thre: 0.5\n",
            "top_k: 200\n",
            "max_detections: 100\n",
            "\n",
            "\n",
            "Backbone is initiated with weights/backbone_res101.pth.\n",
            "\n",
            "loading annotations into memory...\n",
            "Done (t=12.90s)\n",
            "creating index...\n",
            "index created!\n",
            "/usr/lib/python3.10/multiprocessing/popen_fork.py:66: RuntimeWarning: os.fork() was called. os.fork() is incompatible with multithreaded code, and JAX is multithreaded, so this will likely lead to a deadlock.\n",
            "  self.pid = os.fork()\n",
            "step: 10 | lr: 1.18e-04 | l_class: 16.378 | l_box: 5.432 | l_mask: 6.190 | l_semantic: 24.735 | t_t: 18.033 | t_d: 0.020 | t_fl: 6.317 | t_b: 11.666 | t_u: 0.032 | ETA: 141 days, 22:16:06\n",
            "step: 20 | lr: 1.36e-04 | l_class: 13.719 | l_box: 4.708 | l_mask: 5.354 | l_semantic: 2.720 | t_t: 19.133 | t_d: 0.022 | t_fl: 6.806 | t_b: 12.270 | t_u: 0.035 | ETA: 150 days, 13:57:14\n",
            "step: 30 | lr: 1.54e-04 | l_class: 11.936 | l_box: 7.413 | l_mask: 7.101 | l_semantic: 0.953 | t_t: 18.908 | t_d: 0.022 | t_fl: 6.783 | t_b: 12.069 | t_u: 0.034 | ETA: 148 days, 19:20:05\n",
            "step: 40 | lr: 1.72e-04 | l_class: 9.655 | l_box: 4.402 | l_mask: 5.957 | l_semantic: 1.104 | t_t: 18.653 | t_d: 0.023 | t_fl: 6.664 | t_b: 11.933 | t_u: 0.033 | ETA: 146 days, 19:05:51\n",
            "step: 50 | lr: 1.90e-04 | l_class: 7.787 | l_box: 6.260 | l_mask: 5.956 | l_semantic: 0.750 | t_t: 18.684 | t_d: 0.023 | t_fl: 6.614 | t_b: 12.014 | t_u: 0.033 | ETA: 147 days, 0:51:45\n",
            "step: 60 | lr: 2.08e-04 | l_class: 7.560 | l_box: 5.175 | l_mask: 6.072 | l_semantic: 0.692 | t_t: 18.682 | t_d: 0.023 | t_fl: 6.663 | t_b: 11.964 | t_u: 0.032 | ETA: 147 days, 0:35:33\n",
            "step: 70 | lr: 2.26e-04 | l_class: 7.542 | l_box: 4.323 | l_mask: 5.052 | l_semantic: 2.627 | t_t: 18.548 | t_d: 0.023 | t_fl: 6.600 | t_b: 11.893 | t_u: 0.032 | ETA: 145 days, 23:12:58\n",
            "step: 80 | lr: 2.44e-04 | l_class: 7.610 | l_box: 4.317 | l_mask: 5.744 | l_semantic: 1.060 | t_t: 18.443 | t_d: 0.023 | t_fl: 6.548 | t_b: 11.841 | t_u: 0.032 | ETA: 145 days, 3:17:57\n",
            "step: 90 | lr: 2.62e-04 | l_class: 8.026 | l_box: 4.592 | l_mask: 5.364 | l_semantic: 1.184 | t_t: 18.842 | t_d: 0.023 | t_fl: 6.707 | t_b: 12.079 | t_u: 0.032 | ETA: 148 days, 6:37:50\n",
            "step: 100 | lr: 2.80e-04 | l_class: 7.190 | l_box: 4.301 | l_mask: 5.364 | l_semantic: 1.948 | t_t: 18.728 | t_d: 0.023 | t_fl: 6.662 | t_b: 12.011 | t_u: 0.032 | ETA: 147 days, 8:57:01\n",
            "step: 110 | lr: 2.98e-04 | l_class: 6.491 | l_box: 5.023 | l_mask: 5.974 | l_semantic: 1.209 | t_t: 18.700 | t_d: 0.023 | t_fl: 6.657 | t_b: 11.994 | t_u: 0.032 | ETA: 147 days, 3:34:05\n",
            "step: 120 | lr: 3.16e-04 | l_class: 6.887 | l_box: 6.261 | l_mask: 6.279 | l_semantic: 1.139 | t_t: 18.665 | t_d: 0.023 | t_fl: 6.622 | t_b: 12.002 | t_u: 0.032 | ETA: 146 days, 20:56:59\n",
            "step: 130 | lr: 3.34e-04 | l_class: 6.589 | l_box: 5.393 | l_mask: 6.344 | l_semantic: 1.074 | t_t: 18.594 | t_d: 0.023 | t_fl: 6.579 | t_b: 11.972 | t_u: 0.031 | ETA: 146 days, 7:34:08\n",
            "step: 140 | lr: 3.52e-04 | l_class: 5.997 | l_box: 4.974 | l_mask: 6.107 | l_semantic: 0.785 | t_t: 18.564 | t_d: 0.023 | t_fl: 6.557 | t_b: 11.964 | t_u: 0.031 | ETA: 146 days, 1:52:31\n",
            "step: 150 | lr: 3.70e-04 | l_class: 6.429 | l_box: 5.533 | l_mask: 6.271 | l_semantic: 0.599 | t_t: 18.455 | t_d: 0.023 | t_fl: 6.485 | t_b: 11.847 | t_u: 0.031 | ETA: 145 days, 5:13:02\n",
            "step: 160 | lr: 3.88e-04 | l_class: 6.432 | l_box: 3.963 | l_mask: 4.813 | l_semantic: 1.844 | t_t: 18.677 | t_d: 0.023 | t_fl: 6.618 | t_b: 12.010 | t_u: 0.032 | ETA: 146 days, 22:58:22\n",
            "step: 170 | lr: 4.06e-04 | l_class: 7.511 | l_box: 4.710 | l_mask: 5.476 | l_semantic: 1.227 | t_t: 18.697 | t_d: 0.023 | t_fl: 6.622 | t_b: 12.024 | t_u: 0.032 | ETA: 147 days, 2:41:07\n",
            "step: 180 | lr: 4.24e-04 | l_class: 6.168 | l_box: 4.815 | l_mask: 5.258 | l_semantic: 1.015 | t_t: 18.863 | t_d: 0.023 | t_fl: 6.688 | t_b: 12.125 | t_u: 0.034 | ETA: 148 days, 9:58:35\n",
            "step: 190 | lr: 4.42e-04 | l_class: 6.556 | l_box: 3.628 | l_mask: 5.239 | l_semantic: 1.361 | t_t: 18.451 | t_d: 0.023 | t_fl: 6.511 | t_b: 11.895 | t_u: 0.033 | ETA: 145 days, 4:17:57\n",
            "step: 200 | lr: 4.60e-04 | l_class: 5.215 | l_box: 4.779 | l_mask: 5.875 | l_semantic: 0.640 | t_t: 18.477 | t_d: 0.023 | t_fl: 6.512 | t_b: 11.921 | t_u: 0.033 | ETA: 145 days, 9:02:19\n",
            "step: 210 | lr: 4.78e-04 | l_class: 5.715 | l_box: 4.537 | l_mask: 4.971 | l_semantic: 0.972 | t_t: 18.732 | t_d: 0.024 | t_fl: 6.637 | t_b: 12.048 | t_u: 0.033 | ETA: 147 days, 9:08:08\n",
            "step: 220 | lr: 4.96e-04 | l_class: 6.111 | l_box: 6.334 | l_mask: 6.642 | l_semantic: 0.909 | t_t: 18.502 | t_d: 0.024 | t_fl: 6.550 | t_b: 11.890 | t_u: 0.033 | ETA: 145 days, 13:45:13\n",
            "step: 230 | lr: 5.14e-04 | l_class: 5.841 | l_box: 3.957 | l_mask: 5.153 | l_semantic: 0.407 | t_t: 18.478 | t_d: 0.023 | t_fl: 6.554 | t_b: 11.880 | t_u: 0.033 | ETA: 145 days, 9:06:29\n",
            "step: 240 | lr: 5.32e-04 | l_class: 6.411 | l_box: 4.017 | l_mask: 5.111 | l_semantic: 1.799 | t_t: 18.443 | t_d: 0.023 | t_fl: 6.545 | t_b: 11.850 | t_u: 0.033 | ETA: 145 days, 2:28:09\n",
            "step: 250 | lr: 5.50e-04 | l_class: 7.014 | l_box: 6.150 | l_mask: 5.578 | l_semantic: 1.781 | t_t: 18.406 | t_d: 0.024 | t_fl: 6.532 | t_b: 11.820 | t_u: 0.034 | ETA: 144 days, 19:20:46\n",
            "step: 260 | lr: 5.68e-04 | l_class: 5.804 | l_box: 4.530 | l_mask: 5.699 | l_semantic: 0.938 | t_t: 18.052 | t_d: 0.023 | t_fl: 6.369 | t_b: 11.622 | t_u: 0.033 | ETA: 142 days, 0:30:33\n",
            "step: 270 | lr: 5.86e-04 | l_class: 6.056 | l_box: 4.925 | l_mask: 4.998 | l_semantic: 0.650 | t_t: 18.024 | t_d: 0.023 | t_fl: 6.391 | t_b: 11.582 | t_u: 0.033 | ETA: 141 days, 19:15:11\n",
            "step: 280 | lr: 6.04e-04 | l_class: 6.232 | l_box: 5.022 | l_mask: 5.543 | l_semantic: 0.753 | t_t: 17.819 | t_d: 0.023 | t_fl: 6.320 | t_b: 11.440 | t_u: 0.031 | ETA: 140 days, 4:30:17\n",
            "step: 290 | lr: 6.22e-04 | l_class: 6.392 | l_box: 3.949 | l_mask: 5.011 | l_semantic: 2.031 | t_t: 17.811 | t_d: 0.022 | t_fl: 6.316 | t_b: 11.442 | t_u: 0.031 | ETA: 140 days, 2:46:46\n",
            "step: 300 | lr: 6.40e-04 | l_class: 6.644 | l_box: 4.527 | l_mask: 5.236 | l_semantic: 1.019 | t_t: 17.819 | t_d: 0.022 | t_fl: 6.260 | t_b: 11.351 | t_u: 0.030 | ETA: 140 days, 4:24:48\n",
            "step: 310 | lr: 6.58e-04 | l_class: 6.021 | l_box: 4.639 | l_mask: 5.277 | l_semantic: 1.825 | t_t: 17.840 | t_d: 0.022 | t_fl: 6.336 | t_b: 11.447 | t_u: 0.030 | ETA: 140 days, 8:10:04\n",
            "step: 320 | lr: 6.76e-04 | l_class: 6.048 | l_box: 4.253 | l_mask: 5.724 | l_semantic: 0.731 | t_t: 17.843 | t_d: 0.022 | t_fl: 6.334 | t_b: 11.463 | t_u: 0.030 | ETA: 140 days, 8:48:32\n",
            "step: 330 | lr: 6.94e-04 | l_class: 6.821 | l_box: 3.891 | l_mask: 5.102 | l_semantic: 0.931 | t_t: 17.823 | t_d: 0.022 | t_fl: 6.331 | t_b: 11.447 | t_u: 0.030 | ETA: 140 days, 4:52:10\n",
            "step: 340 | lr: 7.12e-04 | l_class: 6.155 | l_box: 4.780 | l_mask: 5.935 | l_semantic: 0.776 | t_t: 18.152 | t_d: 0.022 | t_fl: 6.439 | t_b: 11.665 | t_u: 0.030 | ETA: 142 days, 19:04:27\n",
            "step: 350 | lr: 7.30e-04 | l_class: 6.514 | l_box: 4.461 | l_mask: 5.379 | l_semantic: 0.814 | t_t: 18.171 | t_d: 0.022 | t_fl: 6.448 | t_b: 11.679 | t_u: 0.030 | ETA: 142 days, 22:30:56\n",
            "step: 360 | lr: 7.48e-04 | l_class: 6.737 | l_box: 4.519 | l_mask: 5.380 | l_semantic: 0.922 | t_t: 18.184 | t_d: 0.022 | t_fl: 6.451 | t_b: 11.695 | t_u: 0.030 | ETA: 143 days, 0:54:07\n",
            "step: 370 | lr: 7.66e-04 | l_class: 6.830 | l_box: 4.799 | l_mask: 5.792 | l_semantic: 0.579 | t_t: 18.138 | t_d: 0.022 | t_fl: 6.411 | t_b: 11.685 | t_u: 0.030 | ETA: 142 days, 16:17:37\n",
            "step: 380 | lr: 7.84e-04 | l_class: 6.353 | l_box: 4.299 | l_mask: 5.797 | l_semantic: 0.390 | t_t: 18.140 | t_d: 0.022 | t_fl: 6.416 | t_b: 11.683 | t_u: 0.030 | ETA: 142 days, 16:34:39\n",
            "step: 390 | lr: 8.02e-04 | l_class: 6.907 | l_box: 4.436 | l_mask: 4.881 | l_semantic: 1.340 | t_t: 18.121 | t_d: 0.022 | t_fl: 6.420 | t_b: 11.653 | t_u: 0.030 | ETA: 142 days, 12:56:07\n",
            "step: 400 | lr: 8.20e-04 | l_class: 6.530 | l_box: 4.282 | l_mask: 6.312 | l_semantic: 1.007 | t_t: 18.206 | t_d: 0.023 | t_fl: 6.403 | t_b: 11.581 | t_u: 0.030 | ETA: 143 days, 4:55:39\n",
            "step: 410 | lr: 8.38e-04 | l_class: 5.816 | l_box: 4.206 | l_mask: 5.469 | l_semantic: 1.470 | t_t: 18.030 | t_d: 0.023 | t_fl: 6.410 | t_b: 11.573 | t_u: 0.030 | ETA: 141 days, 19:41:28\n",
            "step: 420 | lr: 8.56e-04 | l_class: 6.187 | l_box: 4.720 | l_mask: 5.878 | l_semantic: 0.914 | t_t: 18.037 | t_d: 0.023 | t_fl: 6.416 | t_b: 11.580 | t_u: 0.030 | ETA: 141 days, 20:57:35\n",
            "step: 430 | lr: 8.74e-04 | l_class: 5.818 | l_box: 3.991 | l_mask: 5.115 | l_semantic: 0.887 | t_t: 18.058 | t_d: 0.023 | t_fl: 6.418 | t_b: 11.600 | t_u: 0.030 | ETA: 142 days, 0:53:14\n",
            "step: 440 | lr: 8.92e-04 | l_class: 5.939 | l_box: 3.960 | l_mask: 5.159 | l_semantic: 1.066 | t_t: 18.038 | t_d: 0.023 | t_fl: 6.484 | t_b: 11.505 | t_u: 0.030 | ETA: 141 days, 20:57:07\n",
            "step: 450 | lr: 9.10e-04 | l_class: 5.559 | l_box: 3.969 | l_mask: 4.958 | l_semantic: 1.007 | t_t: 18.055 | t_d: 0.023 | t_fl: 6.492 | t_b: 11.513 | t_u: 0.030 | ETA: 142 days, 0:10:05\n",
            "step: 460 | lr: 9.28e-04 | l_class: 5.574 | l_box: 4.530 | l_mask: 5.581 | l_semantic: 0.450 | t_t: 18.072 | t_d: 0.023 | t_fl: 6.507 | t_b: 11.517 | t_u: 0.030 | ETA: 142 days, 3:12:16\n",
            "step: 470 | lr: 9.46e-04 | l_class: 6.276 | l_box: 4.194 | l_mask: 4.998 | l_semantic: 0.678 | t_t: 18.099 | t_d: 0.023 | t_fl: 6.517 | t_b: 11.534 | t_u: 0.030 | ETA: 142 days, 8:17:20\n",
            "step: 480 | lr: 9.64e-04 | l_class: 6.536 | l_box: 4.601 | l_mask: 5.144 | l_semantic: 0.996 | t_t: 18.470 | t_d: 0.024 | t_fl: 6.684 | t_b: 11.750 | t_u: 0.031 | ETA: 145 days, 6:23:33\n",
            "step: 490 | lr: 9.82e-04 | l_class: 6.003 | l_box: 2.954 | l_mask: 4.155 | l_semantic: 1.036 | t_t: 18.459 | t_d: 0.024 | t_fl: 6.656 | t_b: 11.762 | t_u: 0.031 | ETA: 145 days, 4:12:09\n",
            "step: 500 | lr: 1.00e-03 | l_class: 5.581 | l_box: 3.924 | l_mask: 5.404 | l_semantic: 0.851 | t_t: 18.348 | t_d: 0.024 | t_fl: 6.526 | t_b: 11.662 | t_u: 0.031 | ETA: 144 days, 7:06:12\n",
            "step: 510 | lr: 1.00e-03 | l_class: 6.426 | l_box: 4.568 | l_mask: 5.598 | l_semantic: 1.136 | t_t: 18.484 | t_d: 0.024 | t_fl: 6.605 | t_b: 11.843 | t_u: 0.031 | ETA: 145 days, 8:48:09\n",
            "step: 520 | lr: 1.00e-03 | l_class: 5.992 | l_box: 4.773 | l_mask: 5.233 | l_semantic: 0.813 | t_t: 18.531 | t_d: 0.023 | t_fl: 6.624 | t_b: 11.863 | t_u: 0.032 | ETA: 145 days, 17:37:29\n",
            "step: 530 | lr: 1.00e-03 | l_class: 6.121 | l_box: 4.150 | l_mask: 5.357 | l_semantic: 0.823 | t_t: 18.607 | t_d: 0.024 | t_fl: 6.637 | t_b: 11.925 | t_u: 0.032 | ETA: 146 days, 7:56:29\n",
            "step: 540 | lr: 1.00e-03 | l_class: 5.676 | l_box: 3.979 | l_mask: 5.073 | l_semantic: 0.569 | t_t: 18.507 | t_d: 0.023 | t_fl: 6.515 | t_b: 11.937 | t_u: 0.033 | ETA: 145 days, 12:57:57\n",
            "step: 550 | lr: 1.00e-03 | l_class: 5.737 | l_box: 2.701 | l_mask: 3.623 | l_semantic: 1.247 | t_t: 18.732 | t_d: 0.024 | t_fl: 6.588 | t_b: 12.101 | t_u: 0.035 | ETA: 147 days, 7:29:15\n",
            "step: 560 | lr: 1.00e-03 | l_class: 5.986 | l_box: 3.837 | l_mask: 5.014 | l_semantic: 0.972 | t_t: 18.952 | t_d: 0.024 | t_fl: 6.657 | t_b: 12.250 | t_u: 0.036 | ETA: 149 days, 0:52:47\n",
            "step: 570 | lr: 1.00e-03 | l_class: 5.931 | l_box: 4.845 | l_mask: 5.854 | l_semantic: 0.839 | t_t: 19.154 | t_d: 0.024 | t_fl: 6.726 | t_b: 12.297 | t_u: 0.037 | ETA: 150 days, 14:56:32\n",
            "step: 580 | lr: 1.00e-03 | l_class: 5.502 | l_box: 3.284 | l_mask: 4.590 | l_semantic: 1.520 | t_t: 18.955 | t_d: 0.024 | t_fl: 6.614 | t_b: 12.289 | t_u: 0.038 | ETA: 149 days, 1:24:20\n",
            "step: 590 | lr: 1.00e-03 | l_class: 6.566 | l_box: 3.404 | l_mask: 4.515 | l_semantic: 1.110 | t_t: 19.152 | t_d: 0.024 | t_fl: 6.680 | t_b: 12.421 | t_u: 0.038 | ETA: 150 days, 14:26:35\n",
            "step: 600 | lr: 1.00e-03 | l_class: 6.291 | l_box: 3.561 | l_mask: 5.025 | l_semantic: 0.761 | t_t: 19.292 | t_d: 0.024 | t_fl: 6.718 | t_b: 12.526 | t_u: 0.039 | ETA: 151 days, 16:49:50\n",
            "step: 610 | lr: 1.00e-03 | l_class: 6.155 | l_box: 4.240 | l_mask: 5.487 | l_semantic: 1.528 | t_t: 19.275 | t_d: 0.025 | t_fl: 6.702 | t_b: 12.522 | t_u: 0.040 | ETA: 151 days, 13:32:37\n",
            "step: 620 | lr: 1.00e-03 | l_class: 5.822 | l_box: 3.633 | l_mask: 4.427 | l_semantic: 1.558 | t_t: 19.353 | t_d: 0.025 | t_fl: 6.737 | t_b: 12.566 | t_u: 0.040 | ETA: 152 days, 4:19:18\n",
            "step: 630 | lr: 1.00e-03 | l_class: 6.156 | l_box: 3.489 | l_mask: 4.762 | l_semantic: 1.753 | t_t: 19.465 | t_d: 0.025 | t_fl: 6.773 | t_b: 12.628 | t_u: 0.041 | ETA: 153 days, 1:20:39\n",
            "step: 640 | lr: 1.00e-03 | l_class: 5.517 | l_box: 3.177 | l_mask: 4.795 | l_semantic: 1.030 | t_t: 19.445 | t_d: 0.025 | t_fl: 6.765 | t_b: 12.609 | t_u: 0.040 | ETA: 152 days, 21:27:38\n",
            "step: 650 | lr: 1.00e-03 | l_class: 6.011 | l_box: 3.927 | l_mask: 5.202 | l_semantic: 1.089 | t_t: 19.348 | t_d: 0.025 | t_fl: 6.737 | t_b: 12.544 | t_u: 0.039 | ETA: 152 days, 3:03:37\n",
            "step: 660 | lr: 1.00e-03 | l_class: 5.780 | l_box: 3.815 | l_mask: 5.590 | l_semantic: 0.876 | t_t: 19.300 | t_d: 0.025 | t_fl: 6.718 | t_b: 12.516 | t_u: 0.039 | ETA: 151 days, 17:58:10\n",
            "step: 670 | lr: 1.00e-03 | l_class: 5.886 | l_box: 4.408 | l_mask: 5.493 | l_semantic: 0.962 | t_t: 19.267 | t_d: 0.025 | t_fl: 6.698 | t_b: 12.518 | t_u: 0.039 | ETA: 151 days, 11:47:40\n",
            "step: 680 | lr: 1.00e-03 | l_class: 6.144 | l_box: 3.132 | l_mask: 4.510 | l_semantic: 0.779 | t_t: 19.332 | t_d: 0.025 | t_fl: 6.716 | t_b: 12.551 | t_u: 0.038 | ETA: 151 days, 23:51:35\n",
            "step: 690 | lr: 1.00e-03 | l_class: 5.386 | l_box: 3.299 | l_mask: 3.410 | l_semantic: 0.761 | t_t: 19.303 | t_d: 0.025 | t_fl: 6.694 | t_b: 12.545 | t_u: 0.038 | ETA: 151 days, 18:26:34\n",
            "step: 700 | lr: 1.00e-03 | l_class: 5.158 | l_box: 4.772 | l_mask: 5.467 | l_semantic: 0.972 | t_t: 19.343 | t_d: 0.025 | t_fl: 6.723 | t_b: 12.570 | t_u: 0.038 | ETA: 152 days, 1:52:11\n",
            "step: 710 | lr: 1.00e-03 | l_class: 5.939 | l_box: 4.509 | l_mask: 4.889 | l_semantic: 0.694 | t_t: 19.278 | t_d: 0.025 | t_fl: 6.693 | t_b: 12.514 | t_u: 0.038 | ETA: 151 days, 13:38:59\n",
            "step: 720 | lr: 1.00e-03 | l_class: 6.339 | l_box: 4.634 | l_mask: 5.503 | l_semantic: 1.282 | t_t: 19.334 | t_d: 0.025 | t_fl: 6.694 | t_b: 12.576 | t_u: 0.038 | ETA: 152 days, 0:11:55\n",
            "step: 730 | lr: 1.00e-03 | l_class: 4.558 | l_box: 3.760 | l_mask: 5.166 | l_semantic: 0.716 | t_t: 19.309 | t_d: 0.025 | t_fl: 6.699 | t_b: 12.545 | t_u: 0.039 | ETA: 151 days, 19:15:38\n",
            "step: 740 | lr: 1.00e-03 | l_class: 6.075 | l_box: 3.220 | l_mask: 5.462 | l_semantic: 1.101 | t_t: 19.322 | t_d: 0.025 | t_fl: 6.719 | t_b: 12.551 | t_u: 0.039 | ETA: 151 days, 21:40:49\n",
            "step: 750 | lr: 1.00e-03 | l_class: 5.221 | l_box: 3.147 | l_mask: 4.098 | l_semantic: 0.996 | t_t: 19.342 | t_d: 0.025 | t_fl: 6.711 | t_b: 12.563 | t_u: 0.039 | ETA: 152 days, 1:23:13\n",
            "step: 760 | lr: 1.00e-03 | l_class: 5.312 | l_box: 3.054 | l_mask: 4.242 | l_semantic: 1.178 | t_t: 19.286 | t_d: 0.025 | t_fl: 6.702 | t_b: 12.519 | t_u: 0.039 | ETA: 151 days, 14:54:28\n",
            "step: 770 | lr: 1.00e-03 | l_class: 6.010 | l_box: 3.317 | l_mask: 4.864 | l_semantic: 0.967 | t_t: 19.262 | t_d: 0.025 | t_fl: 6.703 | t_b: 12.488 | t_u: 0.039 | ETA: 151 days, 10:11:38\n"
          ]
        }
      ],
      "source": [
        "# !torchrun --nproc_per_node=1 --master_port=12345 train.py --train_bs=8\n",
        "!python train.py --train_bs=8"
      ]
    },
    {
      "cell_type": "code",
      "execution_count": null,
      "metadata": {
        "id": "mrbI1tW7bR-o"
      },
      "outputs": [],
      "source": [
        "!pwd"
      ]
    },
    {
      "cell_type": "code",
      "execution_count": null,
      "metadata": {
        "id": "_XnBaXtRiNsJ"
      },
      "outputs": [],
      "source": []
    }
  ],
  "metadata": {
    "colab": {
      "machine_shape": "hm",
      "provenance": []
    },
    "kernelspec": {
      "display_name": "Python 3",
      "name": "python3"
    },
    "language_info": {
      "name": "python"
    }
  },
  "nbformat": 4,
  "nbformat_minor": 0
}