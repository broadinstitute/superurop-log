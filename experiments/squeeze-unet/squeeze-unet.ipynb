{
 "cells": [
  {
   "cell_type": "code",
   "execution_count": 46,
   "metadata": {},
   "outputs": [],
   "source": [
    "from torch import nn\n",
    "import torch"
   ]
  },
  {
   "cell_type": "code",
   "execution_count": 47,
   "metadata": {},
   "outputs": [],
   "source": [
    "class FireModule(nn.Module):\n",
    "    def __init__(self, in_c: int, squeeze_c: int, expand_c: int):\n",
    "        super().__init__()\n",
    "        self.relu = nn.ReLU()\n",
    "        # for all layers below, stride is default = 1\n",
    "\n",
    "        # first point-wise convolution: 1x1\n",
    "        self.squeeze = nn.Conv2d(in_channels=in_c, out_channels=squeeze_c, kernel_size=1, stride=2)\n",
    "        # first independent conv: 3x3\n",
    "        self.expand1x1 = nn.Conv2d(in_channels=squeeze_c, out_channels=expand_c, kernel_size=3, padding=1)\n",
    "        # second independent (pointwise) conv: 1x1\n",
    "        self.expand3x3 = nn.Conv2d(in_channels=squeeze_c, out_channels=expand_c, kernel_size=1)\n",
    "\n",
    "    def forward(self, x: torch.Tensor) -> torch.Tensor:\n",
    "        x = self.relu(self.squeeze(x))\n",
    "        x = torch.cat([\n",
    "            self.relu(self.expand1x1(x)),\n",
    "            self.relu(self.expand3x3(x)),\n",
    "        ], dim=1)\n",
    "\n",
    "        return x"
   ]
  },
  {
   "cell_type": "code",
   "execution_count": 48,
   "metadata": {},
   "outputs": [],
   "source": [
    "class TransposedFireModule(nn.Module):\n",
    "    def __init__(self, out_c: int, *args, **kwargs):\n",
    "        super().__init__(*args, **kwargs)\n",
    "        self.conv1 = nn.ConvTranspose2d(in_channels=128, out_channels=out_c * 2, kernel_size=(1, 1), stride=2)\n",
    "        self.conv2 = nn.ConvTranspose2d(in_channels=out_c * 2, out_channels=out_c, kernel_size=(1, 1), stride=2)\n",
    "        self.conv3 = nn.ConvTranspose2d(in_channels=out_c * 2, out_channels=out_c, kernel_size=(1, 1), stride=2)\n",
    "\n",
    "    def forward(self, x: torch.Tensor) -> torch.Tensor:\n",
    "        x = nn.ReLU(self.conv1(x))\n",
    "        x = torch.cat([\n",
    "            nn.ReLU(self.conv2(x)),\n",
    "            nn.ReLU(self.conv3(x)),\n",
    "        ], dim=1)\n",
    "\n",
    "        return x\n"
   ]
  },
  {
   "cell_type": "code",
   "execution_count": 49,
   "metadata": {},
   "outputs": [],
   "source": [
    "class UpSample(nn.Module):\n",
    "    def __init__(self, x_concat: int, out_c: int, *args, **kwargs) -> None:\n",
    "        super().__init__(*args, **kwargs)\n",
    "        self.x_concat = x_concat\n",
    "\n",
    "        self.transposed_fire_mod = TransposedFireModule(out_c = out_c * 4)\n",
    "        self.fire_mods = nn.Sequential(\n",
    "            FireModule(in_c= out_c * 4, squeeze_c= ,out_c= out_c * 2),\n",
    "            FireModule(in_c= out_c * 2, squeeze_c= ,out_c=out_c),\n",
    "        )\n",
    "\n",
    "    def forward(self, x: torch.Tensor) -> torch.Tensor:\n",
    "        x_transposed_fire = self.transposed_fire_mod(x)\n",
    "        x = x_transposed_fire + self.x_concat\n",
    "        x = self.fire_mods(x)\n"
   ]
  },
  {
   "cell_type": "code",
   "execution_count": 68,
   "metadata": {},
   "outputs": [],
   "source": [
    "class SqueezeUnet(nn.Module):\n",
    "    def __init__(self, num_classes: int):\n",
    "        super().__init__()\n",
    "        self.relu = nn.ReLU()\n",
    "        # first two 3x3 conv layers (3, 3, 64)\n",
    "        self.conv1 = nn.Conv2d(in_channels=3, out_channels=64, kernel_size=3, padding=1)\n",
    "        self.conv2 = nn.Conv2d(in_channels=64, out_channels=64, kernel_size=3, padding=1)\n",
    "\n",
    "        self.t_conv = nn.ConvTranspose2d(in_channels=128, out_channels=64, kernel_size=2)\n",
    "        self.conv3 = nn.Conv2d(in_channels=64, out_channels=64, kernel_size=3, padding=1)\n",
    "        self.conv4 = nn.Conv2d(in_channels=64, out_channels=64, kernel_size=3, padding=1)\n",
    "\n",
    "        self.outc = nn.Conv2d(in_channels=64, out_channels=num_classes, kernel_size=1)\n",
    "\n",
    "    def down_sample(self, x: torch.Tensor, in_c: int, squeeze_c: int, out_c: int) -> torch.Tensor:\n",
    "        mods = nn.Sequential(\n",
    "            FireModule(in_c=in_c, squeeze_c=squeeze_c, expand_c=out_c // 4),\n",
    "            FireModule(in_c=out_c // 2, squeeze_c=squeeze_c * 2, expand_c=out_c // 2),\n",
    "        )\n",
    "        x = mods(x)\n",
    "\n",
    "        return x\n",
    "\n",
    "    def up_sample(x: torch.Tensor, out_c: int) -> nn.Module:\n",
    "        return UpSample(x, out_c=out_c)\n",
    "\n",
    "    # def up_sample(self, x: torch.Tensor, out_c: int) -> torch.Tensor:\n",
    "    #     us_mod = UpSample(x, out_c)\n",
    "\n",
    "    def forward(self, x: torch.Tensor) -> torch.Tensor:\n",
    "        x = self.relu(self.conv1(x))\n",
    "        x_conv1 = self.relu(self.conv2(x)) # skip connection to last concat after upsample\n",
    "\n",
    "        # 4 downsampling steps\n",
    "        x_ds1 = self.down_sample(x=x_conv1, in_c=64, squeeze_c=32, out_c=256)  # skip connection to UpSample(US) #3\n",
    "        x_ds2 = self.down_sample(x=x_ds1, in_c=256, squeeze_c=48, out_c=1024)  # skip connection to US #2\n",
    "        x_ds3 = self.down_sample(x=x_ds2, in_c=1024, squeeze_c=64, out_c=4096)  # skip connection to US #1\n",
    "        x_ds4 = self.down_sample(x=x_ds3, in_c=4096, squeeze_c=80, out_c=16384)\n",
    "\n",
    "        # 3 upsampling steps\n",
    "        us1 = self.up_sample(x_ds3, out_c = 4096)\n",
    "        x_us1 = us1(x_ds4)\n",
    "\n",
    "        us2 = self.up_sample(x_ds2, out_c = 1024)\n",
    "        x_us2 = us2(x_us1)\n",
    "\n",
    "        us3 = self.up_sample(x = x_ds1, out_c = 64)\n",
    "        x_us3 = us3(x_us2)\n",
    "\n",
    "        # # post (after downsampling + upsampling)\n",
    "        # x = nn.ReLU(self.t_conv(x_us3))\n",
    "        # x = torch.cat([x + x_conv1], dim=1)\n",
    "        # x = nn.ReLU(self.conv3(x))\n",
    "        # x = nn.ReLU(self.conv4(x))\n",
    "\n",
    "        # logits = nn.ReLU(self.outc(x))\n",
    "\n",
    "        # return logits\n"
   ]
  },
  {
   "cell_type": "code",
   "execution_count": 67,
   "metadata": {},
   "outputs": [
    {
     "ename": "TypeError",
     "evalue": "FireModule.__init__() got an unexpected keyword argument 'out_c'",
     "output_type": "error",
     "traceback": [
      "\u001b[0;31m---------------------------------------------------------------------------\u001b[0m",
      "\u001b[0;31mTypeError\u001b[0m                                 Traceback (most recent call last)",
      "\u001b[1;32m/Users/ogola/superurop/superurop-log/experiments/squeeze-unet/squeeze-unet.ipynb Cell 6\u001b[0m line \u001b[0;36m3\n\u001b[1;32m      <a href='vscode-notebook-cell:/Users/ogola/superurop/superurop-log/experiments/squeeze-unet/squeeze-unet.ipynb#W6sZmlsZQ%3D%3D?line=0'>1</a>\u001b[0m t \u001b[39m=\u001b[39m torch\u001b[39m.\u001b[39mrand(\u001b[39m1\u001b[39m, \u001b[39m3\u001b[39m, \u001b[39m512\u001b[39m, \u001b[39m512\u001b[39m)\n\u001b[1;32m      <a href='vscode-notebook-cell:/Users/ogola/superurop/superurop-log/experiments/squeeze-unet/squeeze-unet.ipynb#W6sZmlsZQ%3D%3D?line=1'>2</a>\u001b[0m sq_unet \u001b[39m=\u001b[39m SqueezeUnet(num_classes\u001b[39m=\u001b[39m\u001b[39m2\u001b[39m)\n\u001b[0;32m----> <a href='vscode-notebook-cell:/Users/ogola/superurop/superurop-log/experiments/squeeze-unet/squeeze-unet.ipynb#W6sZmlsZQ%3D%3D?line=2'>3</a>\u001b[0m sq_unet(t)\u001b[39m.\u001b[39mshape\n\u001b[1;32m      <a href='vscode-notebook-cell:/Users/ogola/superurop/superurop-log/experiments/squeeze-unet/squeeze-unet.ipynb#W6sZmlsZQ%3D%3D?line=4'>5</a>\u001b[0m \u001b[39m# first = nn.Sequential(\u001b[39;00m\n\u001b[1;32m      <a href='vscode-notebook-cell:/Users/ogola/superurop/superurop-log/experiments/squeeze-unet/squeeze-unet.ipynb#W6sZmlsZQ%3D%3D?line=5'>6</a>\u001b[0m \u001b[39m#     nn.Conv2d(in_channels=3, out_channels=64, kernel_size=3, padding=1),\u001b[39;00m\n\u001b[1;32m      <a href='vscode-notebook-cell:/Users/ogola/superurop/superurop-log/experiments/squeeze-unet/squeeze-unet.ipynb#W6sZmlsZQ%3D%3D?line=6'>7</a>\u001b[0m \u001b[39m#     nn.Conv2d(in_channels=64, out_channels=64, kernel_size=3, padding=1)\u001b[39;00m\n\u001b[0;32m   (...)\u001b[0m\n\u001b[1;32m     <a href='vscode-notebook-cell:/Users/ogola/superurop/superurop-log/experiments/squeeze-unet/squeeze-unet.ipynb#W6sZmlsZQ%3D%3D?line=18'>19</a>\u001b[0m \u001b[39m# x_ds3 = self.down_sample(x=x_ds2, in_c=256, squeeze_c=64, expand_c=256)  # skip connection to US #1\u001b[39;00m\n\u001b[1;32m     <a href='vscode-notebook-cell:/Users/ogola/superurop/superurop-log/experiments/squeeze-unet/squeeze-unet.ipynb#W6sZmlsZQ%3D%3D?line=19'>20</a>\u001b[0m \u001b[39m# x_ds4 = self.down_sample(x=x_ds3, in_c=512, squeeze_c=80, expand_c=512)\u001b[39;00m\n",
      "File \u001b[0;32m/opt/homebrew/lib/python3.11/site-packages/torch/nn/modules/module.py:1501\u001b[0m, in \u001b[0;36mModule._call_impl\u001b[0;34m(self, *args, **kwargs)\u001b[0m\n\u001b[1;32m   1496\u001b[0m \u001b[39m# If we don't have any hooks, we want to skip the rest of the logic in\u001b[39;00m\n\u001b[1;32m   1497\u001b[0m \u001b[39m# this function, and just call forward.\u001b[39;00m\n\u001b[1;32m   1498\u001b[0m \u001b[39mif\u001b[39;00m \u001b[39mnot\u001b[39;00m (\u001b[39mself\u001b[39m\u001b[39m.\u001b[39m_backward_hooks \u001b[39mor\u001b[39;00m \u001b[39mself\u001b[39m\u001b[39m.\u001b[39m_backward_pre_hooks \u001b[39mor\u001b[39;00m \u001b[39mself\u001b[39m\u001b[39m.\u001b[39m_forward_hooks \u001b[39mor\u001b[39;00m \u001b[39mself\u001b[39m\u001b[39m.\u001b[39m_forward_pre_hooks\n\u001b[1;32m   1499\u001b[0m         \u001b[39mor\u001b[39;00m _global_backward_pre_hooks \u001b[39mor\u001b[39;00m _global_backward_hooks\n\u001b[1;32m   1500\u001b[0m         \u001b[39mor\u001b[39;00m _global_forward_hooks \u001b[39mor\u001b[39;00m _global_forward_pre_hooks):\n\u001b[0;32m-> 1501\u001b[0m     \u001b[39mreturn\u001b[39;00m forward_call(\u001b[39m*\u001b[39;49margs, \u001b[39m*\u001b[39;49m\u001b[39m*\u001b[39;49mkwargs)\n\u001b[1;32m   1502\u001b[0m \u001b[39m# Do not call functions when jit is used\u001b[39;00m\n\u001b[1;32m   1503\u001b[0m full_backward_hooks, non_full_backward_hooks \u001b[39m=\u001b[39m [], []\n",
      "\u001b[1;32m/Users/ogola/superurop/superurop-log/experiments/squeeze-unet/squeeze-unet.ipynb Cell 6\u001b[0m line \u001b[0;36m4\n\u001b[1;32m     <a href='vscode-notebook-cell:/Users/ogola/superurop/superurop-log/experiments/squeeze-unet/squeeze-unet.ipynb#W6sZmlsZQ%3D%3D?line=36'>37</a>\u001b[0m x_ds4 \u001b[39m=\u001b[39m \u001b[39mself\u001b[39m\u001b[39m.\u001b[39mdown_sample(x\u001b[39m=\u001b[39mx_ds3, in_c\u001b[39m=\u001b[39m\u001b[39m4096\u001b[39m, squeeze_c\u001b[39m=\u001b[39m\u001b[39m80\u001b[39m, out_c\u001b[39m=\u001b[39m\u001b[39m16384\u001b[39m)\n\u001b[1;32m     <a href='vscode-notebook-cell:/Users/ogola/superurop/superurop-log/experiments/squeeze-unet/squeeze-unet.ipynb#W6sZmlsZQ%3D%3D?line=38'>39</a>\u001b[0m \u001b[39m# 3 upsampling steps\u001b[39;00m\n\u001b[0;32m---> <a href='vscode-notebook-cell:/Users/ogola/superurop/superurop-log/experiments/squeeze-unet/squeeze-unet.ipynb#W6sZmlsZQ%3D%3D?line=39'>40</a>\u001b[0m us1 \u001b[39m=\u001b[39m \u001b[39mself\u001b[39;49m\u001b[39m.\u001b[39;49mup_sample(x_ds3, out_c \u001b[39m=\u001b[39;49m \u001b[39m4096\u001b[39;49m)\n\u001b[1;32m     <a href='vscode-notebook-cell:/Users/ogola/superurop/superurop-log/experiments/squeeze-unet/squeeze-unet.ipynb#W6sZmlsZQ%3D%3D?line=40'>41</a>\u001b[0m x_us1 \u001b[39m=\u001b[39m us1(x_ds4)\n\u001b[1;32m     <a href='vscode-notebook-cell:/Users/ogola/superurop/superurop-log/experiments/squeeze-unet/squeeze-unet.ipynb#W6sZmlsZQ%3D%3D?line=42'>43</a>\u001b[0m us2 \u001b[39m=\u001b[39m \u001b[39mself\u001b[39m\u001b[39m.\u001b[39mup_sample(x_ds2, out_c \u001b[39m=\u001b[39m \u001b[39m1024\u001b[39m)\n",
      "\u001b[1;32m/Users/ogola/superurop/superurop-log/experiments/squeeze-unet/squeeze-unet.ipynb Cell 6\u001b[0m line \u001b[0;36m9\n\u001b[1;32m      <a href='vscode-notebook-cell:/Users/ogola/superurop/superurop-log/experiments/squeeze-unet/squeeze-unet.ipynb#W6sZmlsZQ%3D%3D?line=5'>6</a>\u001b[0m \u001b[39mself\u001b[39m\u001b[39m.\u001b[39mconv1 \u001b[39m=\u001b[39m nn\u001b[39m.\u001b[39mConv2d(in_channels\u001b[39m=\u001b[39m\u001b[39m3\u001b[39m, out_channels\u001b[39m=\u001b[39m\u001b[39m64\u001b[39m, kernel_size\u001b[39m=\u001b[39m\u001b[39m3\u001b[39m, padding\u001b[39m=\u001b[39m\u001b[39m1\u001b[39m)\n\u001b[1;32m      <a href='vscode-notebook-cell:/Users/ogola/superurop/superurop-log/experiments/squeeze-unet/squeeze-unet.ipynb#W6sZmlsZQ%3D%3D?line=6'>7</a>\u001b[0m \u001b[39mself\u001b[39m\u001b[39m.\u001b[39mconv2 \u001b[39m=\u001b[39m nn\u001b[39m.\u001b[39mConv2d(in_channels\u001b[39m=\u001b[39m\u001b[39m64\u001b[39m, out_channels\u001b[39m=\u001b[39m\u001b[39m64\u001b[39m, kernel_size\u001b[39m=\u001b[39m\u001b[39m3\u001b[39m, padding\u001b[39m=\u001b[39m\u001b[39m1\u001b[39m)\n\u001b[0;32m----> <a href='vscode-notebook-cell:/Users/ogola/superurop/superurop-log/experiments/squeeze-unet/squeeze-unet.ipynb#W6sZmlsZQ%3D%3D?line=8'>9</a>\u001b[0m \u001b[39mself\u001b[39m\u001b[39m.\u001b[39mup_sample \u001b[39m=\u001b[39m \u001b[39mlambda\u001b[39;00m x, out_c: UpSample(x, out_c)\n\u001b[1;32m     <a href='vscode-notebook-cell:/Users/ogola/superurop/superurop-log/experiments/squeeze-unet/squeeze-unet.ipynb#W6sZmlsZQ%3D%3D?line=10'>11</a>\u001b[0m \u001b[39mself\u001b[39m\u001b[39m.\u001b[39mt_conv \u001b[39m=\u001b[39m nn\u001b[39m.\u001b[39mConvTranspose2d(in_channels\u001b[39m=\u001b[39m\u001b[39m128\u001b[39m, out_channels\u001b[39m=\u001b[39m\u001b[39m64\u001b[39m, kernel_size\u001b[39m=\u001b[39m\u001b[39m2\u001b[39m)\n\u001b[1;32m     <a href='vscode-notebook-cell:/Users/ogola/superurop/superurop-log/experiments/squeeze-unet/squeeze-unet.ipynb#W6sZmlsZQ%3D%3D?line=11'>12</a>\u001b[0m \u001b[39mself\u001b[39m\u001b[39m.\u001b[39mconv3 \u001b[39m=\u001b[39m nn\u001b[39m.\u001b[39mConv2d(in_channels\u001b[39m=\u001b[39m\u001b[39m64\u001b[39m, out_channels\u001b[39m=\u001b[39m\u001b[39m64\u001b[39m, kernel_size\u001b[39m=\u001b[39m\u001b[39m3\u001b[39m, padding\u001b[39m=\u001b[39m\u001b[39m1\u001b[39m)\n",
      "\u001b[1;32m/Users/ogola/superurop/superurop-log/experiments/squeeze-unet/squeeze-unet.ipynb Cell 6\u001b[0m line \u001b[0;36m8\n\u001b[1;32m      <a href='vscode-notebook-cell:/Users/ogola/superurop/superurop-log/experiments/squeeze-unet/squeeze-unet.ipynb#W6sZmlsZQ%3D%3D?line=3'>4</a>\u001b[0m \u001b[39mself\u001b[39m\u001b[39m.\u001b[39mx_concat \u001b[39m=\u001b[39m x_concat\n\u001b[1;32m      <a href='vscode-notebook-cell:/Users/ogola/superurop/superurop-log/experiments/squeeze-unet/squeeze-unet.ipynb#W6sZmlsZQ%3D%3D?line=5'>6</a>\u001b[0m \u001b[39mself\u001b[39m\u001b[39m.\u001b[39mtransposed_fire_mod \u001b[39m=\u001b[39m TransposedFireModule(out_c \u001b[39m=\u001b[39m out_c \u001b[39m*\u001b[39m \u001b[39m4\u001b[39m)\n\u001b[1;32m      <a href='vscode-notebook-cell:/Users/ogola/superurop/superurop-log/experiments/squeeze-unet/squeeze-unet.ipynb#W6sZmlsZQ%3D%3D?line=6'>7</a>\u001b[0m \u001b[39mself\u001b[39m\u001b[39m.\u001b[39mfire_mods \u001b[39m=\u001b[39m nn\u001b[39m.\u001b[39mSequential(\n\u001b[0;32m----> <a href='vscode-notebook-cell:/Users/ogola/superurop/superurop-log/experiments/squeeze-unet/squeeze-unet.ipynb#W6sZmlsZQ%3D%3D?line=7'>8</a>\u001b[0m     FireModule(in_c\u001b[39m=\u001b[39;49m out_c \u001b[39m*\u001b[39;49m \u001b[39m4\u001b[39;49m, out_c\u001b[39m=\u001b[39;49m out_c \u001b[39m*\u001b[39;49m \u001b[39m2\u001b[39;49m),\n\u001b[1;32m      <a href='vscode-notebook-cell:/Users/ogola/superurop/superurop-log/experiments/squeeze-unet/squeeze-unet.ipynb#W6sZmlsZQ%3D%3D?line=8'>9</a>\u001b[0m     FireModule(in_c\u001b[39m=\u001b[39m out_c \u001b[39m*\u001b[39m \u001b[39m2\u001b[39m, out_c\u001b[39m=\u001b[39mout_c),\n\u001b[1;32m     <a href='vscode-notebook-cell:/Users/ogola/superurop/superurop-log/experiments/squeeze-unet/squeeze-unet.ipynb#W6sZmlsZQ%3D%3D?line=9'>10</a>\u001b[0m )\n",
      "\u001b[0;31mTypeError\u001b[0m: FireModule.__init__() got an unexpected keyword argument 'out_c'"
     ]
    }
   ],
   "source": [
    "t = torch.rand(1, 3, 512, 512)\n",
    "sq_unet = SqueezeUnet(num_classes=2)\n",
    "sq_unet(t).shape\n",
    "\n",
    "# first = nn.Sequential(\n",
    "#     nn.Conv2d(in_channels=3, out_channels=64, kernel_size=3, padding=1),\n",
    "#     nn.Conv2d(in_channels=64, out_channels=64, kernel_size=3, padding=1)\n",
    "# )\n",
    "# first_out = first(t)\n",
    "# print(first_out.shape)\n",
    "# fire = FireModule(in_c=64, squeeze_c=32, expand_c=64)\n",
    "# fire2 = FireModule(in_c=128, squeeze_c=64, expand_c=128)\n",
    "# fire_out = fire(first_out)\n",
    "# print(fire_out.shape)\n",
    "# fire2_out = fire2(fire_out)\n",
    "# fire2_out.shape\n",
    "# x_ds1 = self.down_sample(x=x_conv1, in_c=64, squeeze_c=32, expand_c=64)  # skip connection to UpSample(US) #3\n",
    "# x_ds2 = self.down_sample(x=x_ds1, in_c=128, squeeze_c=48, expand_c=128)  # skip connection to US #2\n",
    "# x_ds3 = self.down_sample(x=x_ds2, in_c=256, squeeze_c=64, expand_c=256)  # skip connection to US #1\n",
    "# x_ds4 = self.down_sample(x=x_ds3, in_c=512, squeeze_c=80, expand_c=512)"
   ]
  },
  {
   "cell_type": "code",
   "execution_count": null,
   "metadata": {},
   "outputs": [],
   "source": []
  }
 ],
 "metadata": {
  "kernelspec": {
   "display_name": "Python 3",
   "language": "python",
   "name": "python3"
  },
  "language_info": {
   "codemirror_mode": {
    "name": "ipython",
    "version": 3
   },
   "file_extension": ".py",
   "mimetype": "text/x-python",
   "name": "python",
   "nbconvert_exporter": "python",
   "pygments_lexer": "ipython3",
   "version": "3.11.6"
  }
 },
 "nbformat": 4,
 "nbformat_minor": 2
}
